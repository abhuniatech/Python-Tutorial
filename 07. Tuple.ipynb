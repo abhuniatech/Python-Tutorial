{
 "cells": [
  {
   "cell_type": "markdown",
   "id": "2e5ac871",
   "metadata": {},
   "source": [
    "# 07. Tuple\n",
    "Tuple is not immutable similar to array"
   ]
  },
  {
   "cell_type": "code",
   "execution_count": 12,
   "id": "215bf8b5",
   "metadata": {},
   "outputs": [],
   "source": [
    "t = (1, 2, 3) # tuple elements cannot be modified"
   ]
  },
  {
   "cell_type": "code",
   "execution_count": 2,
   "id": "2a3fa8ff",
   "metadata": {},
   "outputs": [
    {
     "name": "stdout",
     "output_type": "stream",
     "text": [
      "1\n"
     ]
    }
   ],
   "source": [
    "print(t[0])"
   ]
  },
  {
   "cell_type": "code",
   "execution_count": 3,
   "id": "83bdc740",
   "metadata": {},
   "outputs": [],
   "source": [
    "t1= () #empty tuple"
   ]
  },
  {
   "cell_type": "code",
   "execution_count": 4,
   "id": "9531f9c2",
   "metadata": {},
   "outputs": [
    {
     "name": "stdout",
     "output_type": "stream",
     "text": [
      "()\n"
     ]
    }
   ],
   "source": [
    "print(t1)"
   ]
  },
  {
   "cell_type": "code",
   "execution_count": 7,
   "id": "cb48bb55",
   "metadata": {},
   "outputs": [],
   "source": [
    "t2 =(2,) # declaring tuple with only one element \n",
    "# tuple with only one element needs a comma"
   ]
  },
  {
   "cell_type": "code",
   "execution_count": 6,
   "id": "b3aaec84",
   "metadata": {},
   "outputs": [
    {
     "name": "stdout",
     "output_type": "stream",
     "text": [
      "(2,)\n"
     ]
    }
   ],
   "source": [
    "print(t2)"
   ]
  },
  {
   "cell_type": "code",
   "execution_count": 8,
   "id": "33b03db4",
   "metadata": {},
   "outputs": [
    {
     "data": {
      "text/plain": [
       "3"
      ]
     },
     "execution_count": 8,
     "metadata": {},
     "output_type": "execute_result"
    }
   ],
   "source": [
    "t3=(2, 3, 4, 5, 6, 2, 4, 5, 2)\n",
    "t3.count(2) # counts the number of 3 in the tuple"
   ]
  },
  {
   "cell_type": "code",
   "execution_count": 10,
   "id": "0f96e7f6",
   "metadata": {},
   "outputs": [
    {
     "data": {
      "text/plain": [
       "2"
      ]
     },
     "execution_count": 10,
     "metadata": {},
     "output_type": "execute_result"
    }
   ],
   "source": [
    "t3.index(4) # returns the index of the index of first ocurrence of 4 in the tuple "
   ]
  }
 ],
 "metadata": {
  "kernelspec": {
   "display_name": "Python 3",
   "language": "python",
   "name": "python3"
  },
  "language_info": {
   "codemirror_mode": {
    "name": "ipython",
    "version": 3
   },
   "file_extension": ".py",
   "mimetype": "text/x-python",
   "name": "python",
   "nbconvert_exporter": "python",
   "pygments_lexer": "ipython3",
   "version": "3.8.8"
  }
 },
 "nbformat": 4,
 "nbformat_minor": 5
}
