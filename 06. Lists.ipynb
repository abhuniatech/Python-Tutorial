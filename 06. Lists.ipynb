{
 "cells": [
  {
   "cell_type": "markdown",
   "id": "5c9cf7bb",
   "metadata": {},
   "source": [
    "# 6. Lists\n",
    "\n",
    "List is ordered and immutable."
   ]
  },
  {
   "cell_type": "code",
   "execution_count": 1,
   "id": "79e5ec88",
   "metadata": {},
   "outputs": [
    {
     "name": "stdout",
     "output_type": "stream",
     "text": [
      "2\n"
     ]
    }
   ],
   "source": [
    "a = [1, 2, 4, 56, 6]\n",
    "print(a[1])"
   ]
  },
  {
   "cell_type": "markdown",
   "id": "158d626c",
   "metadata": {},
   "source": [
    "## 6.1 List is emutable "
   ]
  },
  {
   "cell_type": "markdown",
   "id": "20c9a9ba",
   "metadata": {},
   "source": [
    "We can create a list with items of different types"
   ]
  },
  {
   "cell_type": "code",
   "execution_count": 1,
   "id": "d02a8560",
   "metadata": {},
   "outputs": [],
   "source": [
    "b=[45, \"abd\", False, 6.9]"
   ]
  },
  {
   "cell_type": "code",
   "execution_count": 2,
   "id": "d9c1ab32",
   "metadata": {},
   "outputs": [
    {
     "name": "stdout",
     "output_type": "stream",
     "text": [
      "[45, 'abd', False]\n"
     ]
    }
   ],
   "source": [
    "print(b[0:3])"
   ]
  },
  {
   "cell_type": "markdown",
   "id": "bdb98c7a",
   "metadata": {},
   "source": [
    "## 6.2 List functions"
   ]
  },
  {
   "cell_type": "markdown",
   "id": "0e639e92",
   "metadata": {},
   "source": [
    "### 6.2.1 Sorting a list "
   ]
  },
  {
   "cell_type": "code",
   "execution_count": 12,
   "id": "3e2f88c4",
   "metadata": {},
   "outputs": [
    {
     "name": "stdout",
     "output_type": "stream",
     "text": [
      "[1, 2, 7, 8, 15, 21]\n"
     ]
    }
   ],
   "source": [
    "l1=[1, 8, 7, 2, 21, 15]\n",
    "l1.sort() #sorts the list and modifies the original one\n",
    "print(l1)"
   ]
  },
  {
   "cell_type": "code",
   "execution_count": null,
   "id": "1749c01b",
   "metadata": {},
   "outputs": [],
   "source": [
    "l2=[1, 2, 3, 4, 5, 6]\n",
    "l2.reverse() #adds at the end of the list"
   ]
  },
  {
   "cell_type": "code",
   "execution_count": null,
   "id": "9bc140aa",
   "metadata": {},
   "outputs": [],
   "source": [
    "l2=[1, 2, 3, 4, 5, 6]\n",
    "l2.append(45) #adds 45 at the end of the list element at modidfies the list"
   ]
  },
  {
   "cell_type": "code",
   "execution_count": 19,
   "id": "72b0a51b",
   "metadata": {},
   "outputs": [
    {
     "name": "stdout",
     "output_type": "stream",
     "text": [
      "[1, 2, 3, 8, 4, 5, 6]\n"
     ]
    }
   ],
   "source": [
    "l3 = [1, 2, 3, 4, 5, 6]\n",
    "l3.insert(3,8) # adds 8 at the 3rd index and modifies the list\n",
    "print(l3)"
   ]
  },
  {
   "cell_type": "code",
   "execution_count": 17,
   "id": "74a062f3",
   "metadata": {},
   "outputs": [
    {
     "data": {
      "text/plain": [
       "3"
      ]
     },
     "execution_count": 17,
     "metadata": {},
     "output_type": "execute_result"
    }
   ],
   "source": [
    "l4 = [1, 2, 3, 4, 5, 6] \n",
    "l4.pop(2) # will delete element at index 2 and returns its value"
   ]
  },
  {
   "cell_type": "code",
   "execution_count": 22,
   "id": "c7d69ded",
   "metadata": {},
   "outputs": [],
   "source": [
    "l5 = [1, 2, 3, 4, 5, 6] \n",
    "l5.remove(2) "
   ]
  },
  {
   "cell_type": "code",
   "execution_count": 23,
   "id": "de935222",
   "metadata": {},
   "outputs": [
    {
     "name": "stdout",
     "output_type": "stream",
     "text": [
      "[1, 3, 4, 5, 6]\n"
     ]
    }
   ],
   "source": [
    "print(l5)"
   ]
  },
  {
   "cell_type": "markdown",
   "id": "b4f407ac",
   "metadata": {},
   "source": [
    "## Addition of Lists "
   ]
  },
  {
   "cell_type": "code",
   "execution_count": 2,
   "id": "15a7dcfa",
   "metadata": {},
   "outputs": [
    {
     "name": "stdout",
     "output_type": "stream",
     "text": [
      "[1, 2, 3, 4, 5, 6, 7, 8]\n"
     ]
    }
   ],
   "source": [
    "a = [1, 2, 3, 4]\n",
    "b = [5, 6, 7, 8] \n",
    "print(a + b)"
   ]
  },
  {
   "cell_type": "code",
   "execution_count": 3,
   "id": "98a659da",
   "metadata": {},
   "outputs": [
    {
     "name": "stdout",
     "output_type": "stream",
     "text": [
      "[1, 2, 3, 1, 2, 3, 1, 2, 3]\n"
     ]
    }
   ],
   "source": [
    "print([1,2,3] * 3)"
   ]
  }
 ],
 "metadata": {
  "kernelspec": {
   "display_name": "Python 3",
   "language": "python",
   "name": "python3"
  },
  "language_info": {
   "codemirror_mode": {
    "name": "ipython",
    "version": 3
   },
   "file_extension": ".py",
   "mimetype": "text/x-python",
   "name": "python",
   "nbconvert_exporter": "python",
   "pygments_lexer": "ipython3",
   "version": "3.8.8"
  }
 },
 "nbformat": 4,
 "nbformat_minor": 5
}
