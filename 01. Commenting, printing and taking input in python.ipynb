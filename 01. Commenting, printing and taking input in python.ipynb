{
 "cells": [
  {
   "cell_type": "markdown",
   "id": "cf218c15",
   "metadata": {},
   "source": [
    "# 1. Commenting, printing and taking input in Python"
   ]
  },
  {
   "cell_type": "markdown",
   "id": "e47b317d",
   "metadata": {
    "tags": []
   },
   "source": [
    "## 1.1 Commenting  "
   ]
  },
  {
   "cell_type": "markdown",
   "id": "218d235a",
   "metadata": {
    "tags": []
   },
   "source": [
    "### 1.1.1 Single-line Comments\n",
    "\n",
    "Use '#' before any comment."
   ]
  },
  {
   "cell_type": "code",
   "execution_count": null,
   "id": "73c3a327",
   "metadata": {},
   "outputs": [],
   "source": [
    "# comment in python\n",
    "print(\"Hello World\")"
   ]
  },
  {
   "cell_type": "markdown",
   "id": "406b3919",
   "metadata": {
    "tags": []
   },
   "source": [
    "### 1.1.2 Multiline comment"
   ]
  },
  {
   "cell_type": "code",
   "execution_count": 2,
   "id": "f806bfc6",
   "metadata": {},
   "outputs": [
    {
     "name": "stdout",
     "output_type": "stream",
     "text": [
      "Hello World\n"
     ]
    }
   ],
   "source": [
    "'''\n",
    "My name is Arindam\n",
    "I am doing coding\n",
    "'''\n",
    "print(\"Hello World\")"
   ]
  },
  {
   "cell_type": "markdown",
   "id": "454a5dcc",
   "metadata": {
    "tags": []
   },
   "source": [
    "## 1.2 Printing"
   ]
  },
  {
   "cell_type": "code",
   "execution_count": 1,
   "id": "bcd8a176",
   "metadata": {},
   "outputs": [
    {
     "name": "stdout",
     "output_type": "stream",
     "text": [
      "3\n"
     ]
    }
   ],
   "source": [
    "print(3)"
   ]
  },
  {
   "cell_type": "code",
   "execution_count": 3,
   "id": "845cfe51",
   "metadata": {},
   "outputs": [
    {
     "name": "stdout",
     "output_type": "stream",
     "text": [
      "Arindam\n"
     ]
    }
   ],
   "source": [
    "print(\"Arindam\")"
   ]
  },
  {
   "cell_type": "code",
   "execution_count": 1,
   "id": "ddcf76ad",
   "metadata": {},
   "outputs": [
    {
     "name": "stdout",
     "output_type": "stream",
     "text": [
      "3 Arindam\n"
     ]
    }
   ],
   "source": [
    "print(3, \"Arindam\")"
   ]
  },
  {
   "cell_type": "markdown",
   "id": "3e9d8833",
   "metadata": {
    "tags": []
   },
   "source": [
    "## 1.3 Taking input in python"
   ]
  },
  {
   "cell_type": "code",
   "execution_count": 3,
   "id": "7827eb31",
   "metadata": {},
   "outputs": [
    {
     "name": "stdout",
     "output_type": "stream",
     "text": [
      "Enter your name: Arindam\n",
      "Arindam\n"
     ]
    }
   ],
   "source": [
    "a = input(\"Enter your name: \")\n",
    "print(a)"
   ]
  },
  {
   "cell_type": "markdown",
   "id": "3eea74f5",
   "metadata": {},
   "source": [
    "### 1.3 Escape Sequence Characters \n",
    "Escape sequence characters are the sequence of characters after backslash '\\'. \n",
    "\n",
    "Characters comprises of more than one characters but represents one character when used within the strings.\n",
    "\n",
    "Examples - "
   ]
  },
  {
   "cell_type": "raw",
   "id": "859ea3ac",
   "metadata": {},
   "source": [
    "1. \\n --> newline\n",
    "2. \\t --> tab\n",
    "3. \\' --> single quote\n",
    "4. \\\\ --> backslash"
   ]
  },
  {
   "cell_type": "code",
   "execution_count": 2,
   "id": "6fde1577",
   "metadata": {},
   "outputs": [
    {
     "name": "stdout",
     "output_type": "stream",
     "text": [
      "Arindam\n",
      "Bhunia\n"
     ]
    }
   ],
   "source": [
    "print(\"Arindam\\nBhunia\")"
   ]
  },
  {
   "cell_type": "code",
   "execution_count": 1,
   "id": "3b64d8b3-51f7-4093-94c2-fae0c0445174",
   "metadata": {
    "tags": []
   },
   "outputs": [
    {
     "name": "stdout",
     "output_type": "stream",
     "text": [
      "Arindam\n"
     ]
    }
   ],
   "source": [
    "print(\"Arindam\")"
   ]
  }
 ],
 "metadata": {
  "kernelspec": {
   "display_name": "Python 3 (ipykernel)",
   "language": "python",
   "name": "python3"
  },
  "language_info": {
   "codemirror_mode": {
    "name": "ipython",
    "version": 3
   },
   "file_extension": ".py",
   "mimetype": "text/x-python",
   "name": "python",
   "nbconvert_exporter": "python",
   "pygments_lexer": "ipython3",
   "version": "3.10.7"
  }
 },
 "nbformat": 4,
 "nbformat_minor": 5
}
