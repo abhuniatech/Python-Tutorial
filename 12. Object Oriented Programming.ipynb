{
 "cells": [
  {
   "cell_type": "markdown",
   "id": "16c7da6f",
   "metadata": {},
   "source": [
    "# 12. Object Oriented Prorammings (OOPs)\n",
    "Solving a problem by creating objects is one of the most popular approaches in programming. This is called Object Oriented Programming.\n",
    "\n",
    "This program focuses on using reusable code. "
   ]
  },
  {
   "cell_type": "markdown",
   "id": "fc97b013",
   "metadata": {},
   "source": [
    "## Class \n",
    "A class is a blueprint "
   ]
  },
  {
   "cell_type": "markdown",
   "id": "c1c39ce8",
   "metadata": {},
   "source": [
    "## Object\n",
    "An object is an instantenous of a class. When class is defined, a template(info)"
   ]
  },
  {
   "cell_type": "markdown",
   "id": "b8b3695c",
   "metadata": {},
   "source": [
    "# "
   ]
  },
  {
   "cell_type": "code",
   "execution_count": 1,
   "id": "4600bfcb",
   "metadata": {},
   "outputs": [
    {
     "name": "stdout",
     "output_type": "stream",
     "text": [
      "Volvo\n",
      "Blue\n"
     ]
    }
   ],
   "source": [
    "class Car:\n",
    "    model = \"Volvo\"\n",
    "    color = \"Blue\"\n",
    "\n",
    "car = Car()\n",
    "\n",
    "print(car.model)\n",
    "print(car.color)"
   ]
  },
  {
   "cell_type": "code",
   "execution_count": 3,
   "id": "123c6e4f",
   "metadata": {},
   "outputs": [
    {
     "name": "stdout",
     "output_type": "stream",
     "text": [
      "Volvo\n",
      "Blue\n"
     ]
    }
   ],
   "source": [
    "# defining a class \n",
    "class Bus:\n",
    "    model = \"Volvo\"\n",
    "    color = \"Blue\"\n",
    "    \n",
    "# printing the objects inside the class\n",
    "\n",
    "print(Bus().model)\n",
    "print(Bus().color)"
   ]
  },
  {
   "cell_type": "code",
   "execution_count": 6,
   "id": "29e1e63a",
   "metadata": {},
   "outputs": [
    {
     "name": "stdout",
     "output_type": "stream",
     "text": [
      "Blue Volvo\n",
      "Green Ford\n"
     ]
    }
   ],
   "source": [
    "# example\n",
    "class Car:\n",
    "    model=\"\"\n",
    "    color=\"\"\n",
    "car =Car()\n",
    "\n",
    "car.model=\"Volvo\"\n",
    "car.color=\"Blue\"\n",
    "\n",
    "print(car.color + \" \" + car.model)\n",
    "\n",
    "car.model=\"Ford\"\n",
    "car.color=\"Green\"\n",
    "\n",
    "print(car.color + \" \" + car.model)"
   ]
  },
  {
   "cell_type": "raw",
   "id": "93b2b029",
   "metadata": {},
   "source": [
    "# __init__() Function"
   ]
  },
  {
   "cell_type": "markdown",
   "id": "ab225fca",
   "metadata": {},
   "source": [
    "In Python all classes have a built-in function called __init__(), which is always executed when the class is being initiated."
   ]
  },
  {
   "cell_type": "code",
   "execution_count": 12,
   "id": "7eb2bbd6",
   "metadata": {},
   "outputs": [
    {
     "name": "stdout",
     "output_type": "stream",
     "text": [
      "Ford\n",
      "Green\n",
      "\n",
      "\n",
      "Ford\n",
      "Green\n"
     ]
    }
   ],
   "source": [
    "class Car:\n",
    "    def __init__(self, model, color):\n",
    "        self.model = model\n",
    "        self.color = color\n",
    "        \n",
    "car1 = Car(\"Ford\", \"Green\")\n",
    "\n",
    "print(car1.model)\n",
    "print(car1.color)\n",
    "print(\"\\n\")\n",
    "\n",
    "car2 = Car(\"Volvo\", \"Blue\")\n",
    "\n",
    "print(car1.model)\n",
    "print(car1.color)"
   ]
  },
  {
   "cell_type": "code",
   "execution_count": 16,
   "id": "808d5232",
   "metadata": {},
   "outputs": [
    {
     "name": "stdout",
     "output_type": "stream",
     "text": [
      "Tesla\n",
      "Red\n",
      "None\n"
     ]
    }
   ],
   "source": [
    "# defining the Class car\n",
    "class Car:\n",
    "    def __init__ (self, model, color):\n",
    "        self.model = model\n",
    "        self.color = color\n",
    "    def displayCar(self):\n",
    "        print(self.model)\n",
    "        print(self.color)\n",
    "car1=Car(\"Tesla\", \"Red\")\n",
    "\n",
    "print(car1.displayCar())"
   ]
  },
  {
   "cell_type": "code",
   "execution_count": 17,
   "id": "9c48b244",
   "metadata": {},
   "outputs": [],
   "source": [
    "# The interview of of thr "
   ]
  },
  {
   "cell_type": "code",
   "execution_count": null,
   "id": "33dc0af4",
   "metadata": {},
   "outputs": [],
   "source": []
  }
 ],
 "metadata": {
  "kernelspec": {
   "display_name": "Python 3",
   "language": "python",
   "name": "python3"
  },
  "language_info": {
   "codemirror_mode": {
    "name": "ipython",
    "version": 3
   },
   "file_extension": ".py",
   "mimetype": "text/x-python",
   "name": "python",
   "nbconvert_exporter": "python",
   "pygments_lexer": "ipython3",
   "version": "3.8.8"
  }
 },
 "nbformat": 4,
 "nbformat_minor": 5
}
