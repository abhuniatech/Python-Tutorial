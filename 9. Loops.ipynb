{
 "cells": [
  {
   "attachments": {},
   "cell_type": "markdown",
   "id": "a13767f1",
   "metadata": {},
   "source": [
    "# 9. Loops"
   ]
  },
  {
   "cell_type": "markdown",
   "id": "afbe2c1e",
   "metadata": {},
   "source": [
    "## Types of loops in Python \n",
    "Primarily there are two types of loops in python\n",
    "1. while loop\n",
    "2. for loop"
   ]
  },
  {
   "cell_type": "markdown",
   "id": "fb0a7da6",
   "metadata": {},
   "source": [
    "### While loop"
   ]
  },
  {
   "cell_type": "code",
   "execution_count": 1,
   "id": "8bdaa712",
   "metadata": {},
   "outputs": [],
   "source": [
    "i = 4\n",
    "while i>10:\n",
    "    print(\"Yes\")"
   ]
  },
  {
   "cell_type": "code",
   "execution_count": null,
   "id": "17c3db56",
   "metadata": {},
   "outputs": [],
   "source": []
  }
 ],
 "metadata": {
  "kernelspec": {
   "display_name": "Python 3",
   "language": "python",
   "name": "python3"
  },
  "language_info": {
   "codemirror_mode": {
    "name": "ipython",
    "version": 3
   },
   "file_extension": ".py",
   "mimetype": "text/x-python",
   "name": "python",
   "nbconvert_exporter": "python",
   "pygments_lexer": "ipython3",
   "version": "3.8.8"
  }
 },
 "nbformat": 4,
 "nbformat_minor": 5
}
