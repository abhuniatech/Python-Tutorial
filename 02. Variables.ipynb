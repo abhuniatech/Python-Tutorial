{
 "cells": [
  {
   "cell_type": "markdown",
   "id": "eb90a613",
   "metadata": {},
   "source": [
    "# 2. Variable\n",
    "Python is completely object oriented, and not \"statically typed\". You do not need to declare variables before using them, or declare their type. Every variable in Python is an object."
   ]
  },
  {
   "cell_type": "markdown",
   "id": "4c5523bf",
   "metadata": {},
   "source": [
    "### Rules for defining a variable name\n",
    "1. A variable name can contain alphabets, digits and underscores.\n",
    "2. A variable name can only start with an alphabet and underscore.\n",
    "3. A variable name can't start with a digit \n",
    "4. No while space is allowed to be used inside a variable name."
   ]
  }
 ],
 "metadata": {
  "kernelspec": {
   "display_name": "Python 3",
   "language": "python",
   "name": "python3"
  },
  "language_info": {
   "codemirror_mode": {
    "name": "ipython",
    "version": 3
   },
   "file_extension": ".py",
   "mimetype": "text/x-python",
   "name": "python",
   "nbconvert_exporter": "python",
   "pygments_lexer": "ipython3",
   "version": "3.8.8"
  }
 },
 "nbformat": 4,
 "nbformat_minor": 5
}
