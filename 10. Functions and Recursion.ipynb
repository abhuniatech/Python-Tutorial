{
 "cells": [
  {
   "cell_type": "markdown",
   "id": "ed0c9549",
   "metadata": {},
   "source": [
    "# 10. Functions and Recursion"
   ]
  },
  {
   "cell_type": "markdown",
   "id": "95bed95b",
   "metadata": {},
   "source": [
    "A function is a group of statements performimng a specific task.\n",
    "\n",
    "A function can be called any number of times."
   ]
  },
  {
   "cell_type": "code",
   "execution_count": 1,
   "id": "d358db72",
   "metadata": {},
   "outputs": [
    {
     "name": "stdout",
     "output_type": "stream",
     "text": [
      "Good Day, Arindam\n"
     ]
    }
   ],
   "source": [
    "def greet(name):\n",
    "    print(\"Good Day, \" + name)\n",
    "\n",
    "greet(\"Arindam\")"
   ]
  },
  {
   "cell_type": "markdown",
   "id": "52d91c79",
   "metadata": {},
   "source": [
    "## Types of functions in python \n",
    "There are two types of functions in python\n",
    "1. Built in functions --> Already present in python\n",
    "2. User-defined functions --> Defined by the user"
   ]
  },
  {
   "cell_type": "markdown",
   "id": "91a95009",
   "metadata": {},
   "source": [
    "### Examples of Built-in functions \n",
    "Examples of built-in function includes len(), print(), range() etc."
   ]
  },
  {
   "cell_type": "markdown",
   "id": "6ac95bfd",
   "metadata": {},
   "source": [
    "## Functions with arguments\n",
    "A funnction can accept some values it can work with. We can put these values in the parenthesis."
   ]
  },
  {
   "cell_type": "markdown",
   "id": "6c76a9de",
   "metadata": {},
   "source": [
    "## Default Parameter value "
   ]
  },
  {
   "cell_type": "markdown",
   "id": "c006e4ae",
   "metadata": {},
   "source": [
    "## Recursion "
   ]
  },
  {
   "cell_type": "code",
   "execution_count": 3,
   "id": "2400cbaa",
   "metadata": {},
   "outputs": [],
   "source": [
    "# Example of recursion"
   ]
  },
  {
   "cell_type": "code",
   "execution_count": 4,
   "id": "80ac0d4f",
   "metadata": {},
   "outputs": [],
   "source": [
    "#Finding factorial of a number"
   ]
  },
  {
   "cell_type": "code",
   "execution_count": 8,
   "id": "9eea5b37",
   "metadata": {},
   "outputs": [
    {
     "name": "stdout",
     "output_type": "stream",
     "text": [
      "11324281178206297831457521158732046228731749579488251990048962825668835325234200766245086213177344000000000000000000\n"
     ]
    }
   ],
   "source": [
    "n=78\n",
    "prod = 1\n",
    "for i in range(n):\n",
    "    prod = prod * (i+1)\n",
    "print(prod)"
   ]
  },
  {
   "cell_type": "code",
   "execution_count": 9,
   "id": "c2e6dd9f",
   "metadata": {},
   "outputs": [
    {
     "ename": "SyntaxError",
     "evalue": "invalid syntax (<ipython-input-9-95465796e62c>, line 7)",
     "output_type": "error",
     "traceback": [
      "\u001b[1;36m  File \u001b[1;32m\"<ipython-input-9-95465796e62c>\"\u001b[1;36m, line \u001b[1;32m7\u001b[0m\n\u001b[1;33m    print(\"The factorial of\" f \"is\" def fact(f))\u001b[0m\n\u001b[1;37m                             ^\u001b[0m\n\u001b[1;31mSyntaxError\u001b[0m\u001b[1;31m:\u001b[0m invalid syntax\n"
     ]
    }
   ],
   "source": [
    "def fact(n):\n",
    "    prod = 1\n",
    "    for i in range(n):\n",
    "        prod = prod * (i+1)\n",
    "    return prod\n",
    "f=int(input(\"Enter the number: \"))\n",
    "print(\"The factorial of\" f \"is\" def fact(f))"
   ]
  },
  {
   "cell_type": "markdown",
   "id": "d98d3f38",
   "metadata": {},
   "source": [
    "## Something about recursion \n",
    "The programme need to be exteremely careful while working with recursion to ensure that the function doesn't infinitely keep calling itself. Recursion is sometimes the most direct way to code an alogorithm."
   ]
  },
  {
   "cell_type": "code",
   "execution_count": null,
   "id": "0cc03fc1",
   "metadata": {},
   "outputs": [],
   "source": []
  }
 ],
 "metadata": {
  "kernelspec": {
   "display_name": "Python 3",
   "language": "python",
   "name": "python3"
  },
  "language_info": {
   "codemirror_mode": {
    "name": "ipython",
    "version": 3
   },
   "file_extension": ".py",
   "mimetype": "text/x-python",
   "name": "python",
   "nbconvert_exporter": "python",
   "pygments_lexer": "ipython3",
   "version": "3.8.8"
  }
 },
 "nbformat": 4,
 "nbformat_minor": 5
}
