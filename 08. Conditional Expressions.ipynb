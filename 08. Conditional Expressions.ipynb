{
 "cells": [
  {
   "cell_type": "markdown",
   "id": "9bf47f95",
   "metadata": {},
   "source": [
    "# 08. Conditional Expressions"
   ]
  },
  {
   "cell_type": "markdown",
   "id": "5fa384ef",
   "metadata": {},
   "source": [
    "## If, else and elif in python "
   ]
  },
  {
   "cell_type": "raw",
   "id": "9cf92093",
   "metadata": {},
   "source": [
    "Syntax:\n",
    "\n",
    "        if(condition1):\n",
    "            print(\"yes\")\n",
    "        elif(condition2):\n",
    "            print(\"No\")\n",
    "        elif(condition3):\n",
    "            print(\"statement3\")\n",
    "        ................\n",
    "        ................\n",
    "        ................\n",
    "        ................\n",
    "        else:\n",
    "            print(\"final statement\")"
   ]
  },
  {
   "cell_type": "markdown",
   "id": "2f46dfde",
   "metadata": {},
   "source": [
    "Indentation matters in python"
   ]
  },
  {
   "cell_type": "code",
   "execution_count": 2,
   "id": "ee33309a",
   "metadata": {},
   "outputs": [
    {
     "name": "stdout",
     "output_type": "stream",
     "text": [
      "False\n"
     ]
    }
   ],
   "source": [
    "a=[45, 56, 6]\n",
    "print(435 in a)"
   ]
  },
  {
   "cell_type": "markdown",
   "id": "43c6a621",
   "metadata": {},
   "source": [
    "Important notes:\n",
    "\n",
    "1. There can be any number of elif statements.\n",
    "2. Last else is executed only if all the conditions inside elif fail."
   ]
  },
  {
   "cell_type": "code",
   "execution_count": 1,
   "id": "3cda5fb2",
   "metadata": {},
   "outputs": [
    {
     "name": "stdout",
     "output_type": "stream",
     "text": [
      "True\n",
      "False\n",
      "True\n"
     ]
    }
   ],
   "source": [
    "x = 2\n",
    "print(x == 2) # prints out True\n",
    "print(x == 3) # prints out False\n",
    "print(x < 3) # prints out True"
   ]
  },
  {
   "cell_type": "code",
   "execution_count": 3,
   "id": "d9fa7f64",
   "metadata": {},
   "outputs": [
    {
     "name": "stdout",
     "output_type": "stream",
     "text": [
      "Your name is John, and you are also 23 years old.\n",
      "Your name is either John or Rick.\n"
     ]
    }
   ],
   "source": [
    "name = \"John\"\n",
    "age = 23\n",
    "if (name == \"John\" and age == 23):\n",
    "    print(\"Your name is John, and you are also 23 years old.\")\n",
    "\n",
    "if (name == \"John\" or name == \"Rick\"):\n",
    "    print(\"Your name is either John or Rick.\")"
   ]
  },
  {
   "cell_type": "code",
   "execution_count": 4,
   "id": "9836a639",
   "metadata": {},
   "outputs": [],
   "source": [
    "# pass and break function in python"
   ]
  },
  {
   "cell_type": "markdown",
   "id": "a963d718",
   "metadata": {},
   "source": [
    "# The 'is' operator"
   ]
  },
  {
   "cell_type": "code",
   "execution_count": 5,
   "id": "5fdd02eb",
   "metadata": {},
   "outputs": [
    {
     "name": "stdout",
     "output_type": "stream",
     "text": [
      "True\n",
      "False\n"
     ]
    }
   ],
   "source": [
    "x = [1,2,3]\n",
    "y = [1,2,3]\n",
    "print(x == y) # Prints out True\n",
    "print(x is y) # Prints out False"
   ]
  },
  {
   "cell_type": "markdown",
   "id": "e0b0b3cf",
   "metadata": {},
   "source": [
    "# The \"not\" operator\n",
    "Using \"not\" before a boolean expression inverts it:"
   ]
  },
  {
   "cell_type": "code",
   "execution_count": null,
   "id": "28c0ecb5",
   "metadata": {},
   "outputs": [],
   "source": []
  }
 ],
 "metadata": {
  "kernelspec": {
   "display_name": "Python 3",
   "language": "python",
   "name": "python3"
  },
  "language_info": {
   "codemirror_mode": {
    "name": "ipython",
    "version": 3
   },
   "file_extension": ".py",
   "mimetype": "text/x-python",
   "name": "python",
   "nbconvert_exporter": "python",
   "pygments_lexer": "ipython3",
   "version": "3.8.8"
  }
 },
 "nbformat": 4,
 "nbformat_minor": 5
}
