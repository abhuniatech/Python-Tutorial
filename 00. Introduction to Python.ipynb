{
 "cells": [
  {
   "cell_type": "markdown",
   "id": "ac1b5ef2",
   "metadata": {},
   "source": [
    "# 00. What is Programming?\n",
    "\n",
    "gdzgfgf\n",
    "ljvkjvj\n",
    "\n"
   ]
  },
  {
   "cell_type": "markdown",
   "id": "5a52d924",
   "metadata": {},
   "source": [
    "## Installing module in Python\n"
   ]
  },
  {
   "cell_type": "markdown",
   "id": "d489e394",
   "metadata": {},
   "source": [
    "## Types of modules\n",
    "\n",
    "1. Built in Modules in python - Pre-installed in python\n",
    "2. External Modules - need to install using pip."
   ]
  },
  {
   "cell_type": "markdown",
   "id": "a907002d",
   "metadata": {},
   "source": [
    "pip install playsound"
   ]
  },
  {
   "cell_type": "code",
   "execution_count": null,
   "id": "fae966b6",
   "metadata": {},
   "outputs": [],
   "source": [
    "from playsound import playsound\n",
    "playsound('Downloads')"
   ]
  }
 ],
 "metadata": {
  "kernelspec": {
   "display_name": "Python 3 (ipykernel)",
   "language": "python",
   "name": "python3"
  },
  "language_info": {
   "codemirror_mode": {
    "name": "ipython",
    "version": 3
   },
   "file_extension": ".py",
   "mimetype": "text/x-python",
   "name": "python",
   "nbconvert_exporter": "python",
   "pygments_lexer": "ipython3",
   "version": "3.10.7"
  }
 },
 "nbformat": 4,
 "nbformat_minor": 5
}
