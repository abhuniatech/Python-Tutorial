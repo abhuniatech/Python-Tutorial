{
 "cells": [
  {
   "cell_type": "markdown",
   "id": "7af9e36d",
   "metadata": {},
   "source": [
    "# 3. Datatypes\n",
    "Primariy the data types in the Python are \n",
    "1. Integers\n",
    "2. Floating Point Numbers\n",
    "3. Strings\n",
    "4. Booleans \n",
    "5. None\n",
    "\n",
    "Python automatically indentifies the type of the of data for us"
   ]
  },
  {
   "cell_type": "code",
   "execution_count": 1,
   "id": "ba4f63b5",
   "metadata": {},
   "outputs": [],
   "source": [
    "a='Arindam' \n",
    "b=\"Arindam\" \n",
    "c='''Arindam'''\n",
    "d=245 # defining and integer\n",
    "e=646.4665 # defining floats\n",
    "f=None"
   ]
  },
  {
   "cell_type": "code",
   "execution_count": 2,
   "id": "81a5ea9d",
   "metadata": {},
   "outputs": [
    {
     "name": "stdout",
     "output_type": "stream",
     "text": [
      "Arindam\n",
      "Arindam\n",
      "Arindam\n",
      "245\n",
      "646.4665\n",
      "None\n"
     ]
    }
   ],
   "source": [
    "# Printing the variables\n",
    "\n",
    "print(a)\n",
    "print(b)\n",
    "print(c)\n",
    "print(d)\n",
    "print(e)\n",
    "print(f)"
   ]
  },
  {
   "cell_type": "code",
   "execution_count": 3,
   "id": "e4eea291",
   "metadata": {},
   "outputs": [
    {
     "name": "stdout",
     "output_type": "stream",
     "text": [
      "<class 'str'>\n",
      "<class 'str'>\n",
      "<class 'str'>\n",
      "<class 'int'>\n",
      "<class 'float'>\n",
      "<class 'NoneType'>\n"
     ]
    }
   ],
   "source": [
    "# Printing the type of variables \n",
    "\n",
    "print(type (a))\n",
    "print(type (b))\n",
    "print(type (c))\n",
    "print(type (d))\n",
    "print(type (e))\n",
    "print(type (f))"
   ]
  },
  {
   "cell_type": "markdown",
   "id": "7f34003d",
   "metadata": {},
   "source": [
    "## 3.1 Typecasting\n",
    "\n",
    "Changing one datatype to another (where possible)"
   ]
  },
  {
   "cell_type": "code",
   "execution_count": 1,
   "id": "a06c2a69",
   "metadata": {},
   "outputs": [
    {
     "ename": "TypeError",
     "evalue": "can only concatenate str (not \"int\") to str",
     "output_type": "error",
     "traceback": [
      "\u001b[1;31m---------------------------------------------------------------------------\u001b[0m",
      "\u001b[1;31mTypeError\u001b[0m                                 Traceback (most recent call last)",
      "\u001b[1;32m<ipython-input-1-ea9bafeef070>\u001b[0m in \u001b[0;36m<module>\u001b[1;34m\u001b[0m\n\u001b[0;32m      1\u001b[0m \u001b[0ma\u001b[0m\u001b[1;33m=\u001b[0m\u001b[1;34m\"456\"\u001b[0m\u001b[1;33m\u001b[0m\u001b[1;33m\u001b[0m\u001b[0m\n\u001b[1;32m----> 2\u001b[1;33m \u001b[0mprint\u001b[0m\u001b[1;33m(\u001b[0m\u001b[0ma\u001b[0m\u001b[1;33m+\u001b[0m\u001b[1;36m5\u001b[0m\u001b[1;33m)\u001b[0m\u001b[1;33m\u001b[0m\u001b[1;33m\u001b[0m\u001b[0m\n\u001b[0m",
      "\u001b[1;31mTypeError\u001b[0m: can only concatenate str (not \"int\") to str"
     ]
    }
   ],
   "source": [
    "a=\"456\"\n",
    "print(a+5) # strings cannot be added with integer"
   ]
  },
  {
   "cell_type": "code",
   "execution_count": 4,
   "id": "702596f7",
   "metadata": {},
   "outputs": [
    {
     "name": "stdout",
     "output_type": "stream",
     "text": [
      "461\n"
     ]
    }
   ],
   "source": [
    "a=\"456\"\n",
    "print(int(a)+5) #string is added to integer after converting it to integer"
   ]
  }
 ],
 "metadata": {
  "kernelspec": {
   "display_name": "Python 3 (ipykernel)",
   "language": "python",
   "name": "python3"
  },
  "language_info": {
   "codemirror_mode": {
    "name": "ipython",
    "version": 3
   },
   "file_extension": ".py",
   "mimetype": "text/x-python",
   "name": "python",
   "nbconvert_exporter": "python",
   "pygments_lexer": "ipython3",
   "version": "3.10.7"
  }
 },
 "nbformat": 4,
 "nbformat_minor": 5
}
